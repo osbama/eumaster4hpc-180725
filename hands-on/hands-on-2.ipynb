{
 "cells": [
  {
   "cell_type": "code",
   "execution_count": null,
   "metadata": {},
   "outputs": [],
   "source": [
    "!pip install pennylane\n",
    "!pip install jax\n",
    "!pip install jaxopt"
   ]
  },
  {
   "cell_type": "markdown",
   "metadata": {},
   "source": [
    "# Noisy circuits\n",
    "\n",
    "\n",
    "\n",
    "In this demonstration, you\\'ll learn how to simulate noisy circuits\n",
    "using built-in functionality in PennyLane. We\\'ll cover the basics of\n",
    "noisy channels and density matrices, then use example code to simulate\n",
    "noisy circuits. PennyLane, the library for differentiable quantum\n",
    "computations, has unique features that enable us to compute gradients of\n",
    "noisy channels. We\\'ll also explore how to employ channel gradients to\n",
    "optimize noise parameters in a circuit.\n",
    "\n",
    "We\\'re putting the N in NISQ.\n",
    "\n",
    "<figure>\n",
    "<img src=\"hands-on-2-images/N-Nisq.png\"\n",
    "class=\"align-center\" style=\"width:20.0%\"\n",
    "alt=\"hands-on-2-images/N-Nisq.png\" />\n",
    "<figcaption>..</figcaption>\n",
    "</figure>\n"
   ]
  },
  {
   "cell_type": "markdown",
   "metadata": {},
   "source": [
    "# Noisy operations\n",
    "\n",
    "Noise is any unwanted transformation that corrupts the intended output\n",
    "of a quantum computation. It can be separated into two categories.\n",
    "\n",
    "-   **Coherent noise** is described by unitary operations that maintain\n",
    "    the purity of the output quantum state. A common source are\n",
    "    systematic errors originating from imperfectly-calibrated devices\n",
    "    that do not exactly apply the desired gates, e.g., applying a\n",
    "    rotation by an angle $\\phi+\\epsilon$ instead of $\\phi.$\n",
    "-   **Incoherent noise** is more problematic: it originates from a\n",
    "    quantum computer becoming entangled with the environment, resulting\n",
    "    in mixed states --- probability distributions over different pure\n",
    "    states. Incoherent noise thus leads to outputs that are always\n",
    "    random, regardless of what basis we measure in.\n",
    "\n",
    "Mixed states are described by [density\n",
    "matrices](https://en.wikipedia.org/wiki/Density_matrices). They provide\n",
    "a more general method of describing quantum states that elegantly\n",
    "encodes a distribution over pure states in a single mathematical object.\n",
    "Mixed states are the most general description of a quantum state, of\n",
    "which pure states are a special case.\n",
    "\n",
    "The purpose of PennyLane\\'s `default.mixed` device is to provide native\n",
    "support for mixed states and for simulating noisy computations. Let\\'s\n",
    "use `default.mixed` to simulate a simple circuit for preparing the Bell\n",
    "state $|\\psi\\rangle=\\frac{1}{\\sqrt{2}}(|00\\rangle+|11\\rangle).$ We ask\n",
    "the QNode to return the expectation value of $Z_0\\otimes Z_1:$\n"
   ]
  },
  {
   "cell_type": "code",
   "execution_count": null,
   "metadata": {
    "collapsed": false,
    "jupyter": {
     "outputs_hidden": false
    }
   },
   "outputs": [],
   "source": [
    "import pennylane as qml\n",
    "from jax import numpy as np\n",
    "import jax\n",
    "import jaxopt\n",
    "\n",
    "jax.config.update(\"jax_platform_name\", \"cpu\")\n",
    "jax.config.update('jax_enable_x64', True)\n",
    "\n",
    "dev = qml.device('default.mixed', wires=2)\n",
    "\n",
    "@qml.qnode(dev)\n",
    "def circuit():\n",
    "    qml.Hadamard(wires=0)\n",
    "    qml.CNOT(wires=[0, 1])\n",
    "    return qml.expval(qml.PauliZ(0) @ qml.PauliZ(1))\n",
    "\n",
    "\n",
    "print(f\"QNode output = {circuit():.4f}\")"
   ]
  },
  {
   "cell_type": "markdown",
   "metadata": {},
   "source": [
    "With a small modification of the circuit we can also ask for the density\n",
    "matrix. In this case, the density matrix is equal to\n",
    "$|\\psi\\rangle\\langle\\psi|,$ where\n",
    "$|\\psi\\rangle=\\frac{1}{\\sqrt{2}}(|00\\rangle + |11\\rangle).$\n"
   ]
  },
  {
   "cell_type": "code",
   "execution_count": null,
   "metadata": {
    "collapsed": false,
    "jupyter": {
     "outputs_hidden": false
    }
   },
   "outputs": [],
   "source": [
    "@qml.qnode(dev)\n",
    "def density_matrix_circuit():\n",
    "    qml.Hadamard(wires=0)\n",
    "    qml.CNOT(wires=[0, 1])\n",
    "    return qml.state()\n",
    "\n",
    "matrix = density_matrix_circuit()\n",
    "print(f\"Output density matrix is = \\n{np.real(matrix)}\")"
   ]
  },
  {
   "cell_type": "markdown",
   "metadata": {},
   "source": [
    "Incoherent noise is modelled by quantum channels. Mathematically, a\n",
    "quantum channel is a linear, completely positive, and trace-preserving\n",
    "([CPTP](https://www.quantiki.org/wiki/channel-cp-map)) map. A convenient\n",
    "strategy for representing quantum channels is to employ [Kraus\n",
    "operators](https://en.wikipedia.org/wiki/Quantum_operation#Kraus_operators)\n",
    "$\\{K_i\\}$ satisfying the condition $\\sum_i K_{i}^{\\dagger} K_i = I.$ For\n",
    "an initial state $\\rho,$ the output state after the action of a channel\n",
    "$\\Phi$ is:\n",
    "\n",
    "$$\\Phi(\\rho) = \\sum_i K_i \\rho K_{i}^{\\dagger}.$$\n",
    "\n",
    "Just like pure states are special cases of mixed states, unitary\n",
    "transformations are special cases of quantum channels. Unitary\n",
    "transformations are represented by a single Kraus operator, the unitary\n",
    "$U,$ and they transform a state as $U\\rho U^\\dagger.$\n",
    "\n",
    "More generally, the action of a quantum channel can be interpreted as\n",
    "applying a transformation corresponding to the Kraus operator $K_i$ with\n",
    "some associated probability. More precisely, the channel applies the\n",
    "transformation $\\frac{1}{p_i}K_i\\rho K_i^\\dagger$ with probability\n",
    "$p_i = \\text{Tr}[K_i \\rho K_{i}^{\n",
    "\\dagger}]$. Quantum channels therefore represent a probability\n",
    "distribution over different possible transformations on a quantum state.\n",
    "For example, consider the bit flip channel. It describes a\n",
    "transformation that flips the state of a qubit (applies an X gate) with\n",
    "probability $p$ and leaves it unchanged with probability $1-p.$ Its\n",
    "Kraus operators are\n",
    "\n",
    "$$\\begin{aligned}\n",
    "K_0 &= \\sqrt{1-p}\\begin{pmatrix}1 & 0\\\\ 0 & 1\\end{pmatrix}, \\\\\n",
    "K_1 &= \\sqrt{p}\\begin{pmatrix}0 & 1\\\\ 1 & 0\\end{pmatrix}.\n",
    "\\end{aligned}$$\n",
    "\n",
    "This channel can be implemented in PennyLane using the\n",
    "`qml.BitFlip <pennylane.BitFlip>`\n",
    "operation.\n",
    "\n",
    "Let\\'s see what happens when we simulate this type of noise acting on\n",
    "both qubits in the circuit. We\\'ll evaluate the QNode for different bit\n",
    "flip probabilities.\n"
   ]
  },
  {
   "cell_type": "code",
   "execution_count": null,
   "metadata": {
    "collapsed": false,
    "jupyter": {
     "outputs_hidden": false
    }
   },
   "outputs": [],
   "source": [
    "@qml.qnode(dev)\n",
    "def bitflip_circuit(p):\n",
    "    qml.Hadamard(wires=0)\n",
    "    qml.CNOT(wires=[0, 1])\n",
    "    qml.BitFlip(p, wires=0)\n",
    "    qml.BitFlip(p, wires=1)\n",
    "    return qml.expval(qml.PauliZ(0) @ qml.PauliZ(1)), qml.state()\n",
    "\n",
    "\n",
    "ps = [0.001, 0.01, 0.1, 0.2]\n",
    "for p in ps:\n",
    "    result = bitflip_circuit(p)\n",
    "    print(f\"QNode output for bit flip probability {p} is {result[0]:.4f}\")"
   ]
  },
  {
   "cell_type": "markdown",
   "metadata": {},
   "source": [
    "The circuit behaves quite differently in the presence of noise! This\n",
    "will be familiar to anyone that has run an algorithm on quantum\n",
    "hardware. It is also highlights why error mitigation and error\n",
    "correction are so important. We can use PennyLane to look under the hood\n",
    "and see the output state of the circuit for the largest noise parameter\n"
   ]
  },
  {
   "cell_type": "code",
   "execution_count": null,
   "metadata": {
    "collapsed": false,
    "jupyter": {
     "outputs_hidden": false
    }
   },
   "outputs": [],
   "source": [
    "print(f\"Output state for bit flip probability {p} is \\n{result[1]}\")"
   ]
  },
  {
   "cell_type": "markdown",
   "metadata": {},
   "source": [
    "Besides the bit flip channel, PennyLane supports several other noisy\n",
    "channels that are commonly used to describe experimental imperfections:\n",
    "`~.pennylane.PhaseFlip`,\n",
    "`~.pennylane.AmplitudeDamping`,\n",
    "`~.pennylane.GeneralizedAmplitudeDamping`, `~.pennylane.PhaseDamping`, and the\n",
    "`~.pennylane.DepolarizingChannel`. You\n",
    "can also build your own custom channel using the operation\n",
    "`~.pennylane.QubitChannel` by specifying\n",
    "its Kraus operators, or even submit a [pull\n",
    "request](https://pennylane.readthedocs.io/en/stable/development/guide.html)\n",
    "introducing a new channel.\n",
    "\n",
    "Let\\'s take a look at another example. The depolarizing channel is a\n",
    "generalization of the bit flip and phase flip channels, where each of\n",
    "the three possible Pauli errors can be applied to a single qubit. Its\n",
    "Kraus operators are given by\n",
    "\n",
    "$$\\begin{aligned}\n",
    "K_0 &= \\sqrt{1-p}\\begin{pmatrix}1 & 0\\\\ 0 & 1\\end{pmatrix}, \\\\\n",
    "K_1 &= \\sqrt{p/3}\\begin{pmatrix}0 & 1\\\\ 1 & 0\\end{pmatrix}, \\\\\n",
    "K_2 &= \\sqrt{p/3}\\begin{pmatrix}0 & -i\\\\ i & 0\\end{pmatrix}, \\\\\n",
    "K_3 &= \\sqrt{p/3}\\begin{pmatrix}1 & 0\\\\ 0 & -1\\end{pmatrix}.\n",
    "\\end{aligned}$$\n",
    "\n",
    "A circuit modelling the effect of depolarizing noise in preparing a Bell\n",
    "state is implemented below.\n"
   ]
  },
  {
   "cell_type": "code",
   "execution_count": null,
   "metadata": {
    "collapsed": false,
    "jupyter": {
     "outputs_hidden": false
    }
   },
   "outputs": [],
   "source": [
    "@qml.qnode(dev)\n",
    "def depolarizing_circuit(p):\n",
    "    qml.Hadamard(wires=0)\n",
    "    qml.CNOT(wires=[0, 1])\n",
    "    qml.DepolarizingChannel(p, wires=0)\n",
    "    qml.DepolarizingChannel(p, wires=1)\n",
    "    return qml.expval(qml.PauliZ(0) @ qml.PauliZ(1))\n",
    "\n",
    "\n",
    "ps = [0.001, 0.01, 0.1, 0.2]\n",
    "for p in ps:\n",
    "    print(f\"QNode output for depolarizing probability {p} is {depolarizing_circuit(p):.4f}\")"
   ]
  },
  {
   "cell_type": "markdown",
   "metadata": {},
   "source": [
    "As before, the output deviates from the desired value as the amount of\n",
    "noise increases. Modelling the noise that occurs in real experiments\n",
    "requires careful consideration. PennyLane offers the flexibility to\n",
    "experiment with different combinations of noisy channels to either mimic\n",
    "the performance of quantum algorithms when deployed on real devices, or\n",
    "to explore the effect of more general quantum transformations.\n",
    "\n",
    "# Channel gradients\n",
    "\n",
    "The ability to compute gradients of any operation is an essential\n",
    "ingredient of\n",
    "`quantum differentiable programming`. In PennyLane, it is possible to compute gradients of noisy\n",
    "channels and optimize them inside variational circuits. PennyLane\n",
    "supports analytical gradients for channels whose Kraus operators are\n",
    "proportional to unitary matrices. In other cases, gradients are\n",
    "evaluated using finite differences.\n",
    "\n",
    "To illustrate this property, we\\'ll consider an elementary example. We\n",
    "aim to learn the noise parameters of a circuit in order to reproduce an\n",
    "observed expectation value. So suppose that we run the circuit to\n",
    "prepare a Bell state on a hardware device and observe that the\n",
    "expectation value of $Z_0\\otimes Z_1$ is not equal to 1 (as would occur\n",
    "with an ideal device), but instead has the value 0.7781. In the\n",
    "experiment, it is known that the major source of noise is amplitude\n",
    "damping, for example as a result of photon loss. Amplitude damping\n",
    "projects a state to $|0\\rangle$ with probability $p$ and otherwise\n",
    "leaves it unchanged. It is described by the Kraus operators\n",
    "\n",
    "$$\\begin{aligned}\n",
    "K_0 = \\begin{pmatrix}1 & 0\\\\ 0 & \\sqrt{1-p}\\end{pmatrix}, \\quad\n",
    "K_1 = \\begin{pmatrix}0 & \\sqrt{p}\\\\ 0 & 0\\end{pmatrix}.\n",
    "\\end{aligned}$$\n",
    "\n",
    "What damping parameter ($p$) explains the experimental outcome? We can\n",
    "answer this question by optimizing the channel parameters to reproduce\n",
    "the experimental observation! 💪 Since the parameter $p$ is a\n",
    "probability, we use a sigmoid function to ensure that the trainable\n",
    "parameters give rise to a valid channel parameter, i.e., a number\n",
    "between 0 and 1.\n"
   ]
  },
  {
   "cell_type": "code",
   "execution_count": null,
   "metadata": {
    "collapsed": false,
    "jupyter": {
     "outputs_hidden": false
    }
   },
   "outputs": [],
   "source": [
    "ev = 0.7781  # observed expectation value\n",
    "\n",
    "def sigmoid(x):\n",
    "    return 1/(1+np.exp(-x))\n",
    "\n",
    "@qml.qnode(dev)\n",
    "def damping_circuit(x):\n",
    "    qml.Hadamard(wires=0)\n",
    "    qml.CNOT(wires=[0, 1])\n",
    "    qml.AmplitudeDamping(sigmoid(x), wires=0)  # p = sigmoid(x)\n",
    "    qml.AmplitudeDamping(sigmoid(x), wires=1)\n",
    "    return qml.expval(qml.PauliZ(0) @ qml.PauliZ(1))"
   ]
  },
  {
   "cell_type": "markdown",
   "metadata": {},
   "source": [
    "We optimize the circuit with respect to a simple cost function that\n",
    "attains its minimum when the output of the QNode is equal to the\n",
    "experimental value:\n"
   ]
  },
  {
   "cell_type": "code",
   "execution_count": null,
   "metadata": {
    "collapsed": false,
    "jupyter": {
     "outputs_hidden": false
    }
   },
   "outputs": [],
   "source": [
    "def cost(x, target):\n",
    "    return (damping_circuit(x) - target)**2"
   ]
  },
  {
   "cell_type": "markdown",
   "metadata": {},
   "source": [
    "All that remains is to optimize the parameter. We use a straightforward\n",
    "gradient descent method.\n"
   ]
  },
  {
   "cell_type": "code",
   "execution_count": null,
   "metadata": {
    "collapsed": false,
    "jupyter": {
     "outputs_hidden": false
    }
   },
   "outputs": [],
   "source": [
    "steps = 35\n",
    "\n",
    "gd = jaxopt.GradientDescent(cost, maxiter=steps, tol=1e-5)\n",
    "\n",
    "x = np.array(0.01)\n",
    "res = gd.run(x, ev)\n",
    "\n",
    "print(f\"QNode output after optimization = {damping_circuit(res.params):.4f}\")\n",
    "print(f\"Experimental expectation value = {ev}\")\n",
    "print(f\"Optimized noise parameter p = {sigmoid(x.take(0)):.4f}\")"
   ]
  },
  {
   "cell_type": "markdown",
   "metadata": {},
   "source": [
    "Voilà! We\\'ve trained the noisy channel to reproduce the experimental\n",
    "observation. \n",
    "\n",
    "Developing quantum algorithms that leverage the power of NISQ devices\n",
    "requires serious consideration of the effects of noise. With PennyLane,\n",
    "you have access to tools that can help you design, simulate, and\n",
    "optimize noisy quantum circuits. We look forward to seeing what the\n",
    "quantum community can achieve with them! 🚀 🎉 😸"
   ]
  }
 ],
 "metadata": {
  "kernelspec": {
   "display_name": "Python 3 (ipykernel)",
   "language": "python",
   "name": "python3"
  },
  "language_info": {
   "codemirror_mode": {
    "name": "ipython",
    "version": 3
   },
   "file_extension": ".py",
   "mimetype": "text/x-python",
   "name": "python",
   "nbconvert_exporter": "python",
   "pygments_lexer": "ipython3",
   "version": "3.13.5"
  }
 },
 "nbformat": 4,
 "nbformat_minor": 4
}
